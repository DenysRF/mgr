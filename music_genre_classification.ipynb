{
 "cells": [
  {
   "cell_type": "code",
   "execution_count": 1,
   "metadata": {},
   "outputs": [
    {
     "name": "stderr",
     "output_type": "stream",
     "text": [
      "Using TensorFlow backend.\n"
     ]
    }
   ],
   "source": [
    "import librosa\n",
    "import librosa.feature\n",
    "import librosa.display\n",
    "\n",
    "import numpy as np\n",
    "np.set_printoptions(suppress=True)\n",
    "\n",
    "from keras.models import Sequential\n",
    "from keras.layers import Dense, Activation\n",
    "from keras.utils.np_utils import to_categorical\n",
    "\n",
    "from sklearn.metrics import confusion_matrix\n",
    "\n",
    "import glob"
   ]
  },
  {
   "cell_type": "code",
   "execution_count": 20,
   "metadata": {},
   "outputs": [],
   "source": [
    "np.seterr(divide='ignore', invalid='ignore')\n",
    "\n",
    "def generate_features_and_labels():\n",
    "    clip_duration = 1\n",
    "    data_len = 44\n",
    "    song_length = 30\n",
    "\n",
    "    features = {\n",
    "        \"zcr\" : True,\n",
    "        \"rms\" : True,\n",
    "        \"spec_cent\" : False,\n",
    "        \"spec_bw\" : False,\n",
    "        \"spec_flat\" : False,\n",
    "        \"spec_roll\" : False,\n",
    "        \"spec_cont\" : False,\n",
    "        \"chroma\" : False\n",
    "    }\n",
    "    genres = ['blues', 'classical', 'country', 'disco', 'hiphop', 'jazz', 'metal', 'pop', 'reggae', 'rock']\n",
    "    \n",
    "    all_features = []\n",
    "    all_labels = []\n",
    "    \n",
    "    for genre in genres:\n",
    "        sound_files = glob.glob('genres/'+genre+'/*.wav')\n",
    "        print('Processing %d songs in %s genre...' % (len(sound_files), genre))\n",
    "        for f in sound_files:\n",
    "            for i in range(0, song_length):\n",
    "                temp_arr = []\n",
    "                y, sr = librosa.load(f, offset=i, duration=clip_duration)\n",
    "                S, phase = librosa.magphase(librosa.stft(y=y))\n",
    "                \n",
    "                mfcc = librosa.feature.mfcc(y, sr=sr)\n",
    "                mfcc /= np.amax(np.absolute(mfcc))\n",
    "                mfcc = np.ndarray.flatten(mfcc)[:data_len * 20]\n",
    "                \n",
    "                # pad with 0's\n",
    "                if np.shape(mfcc)[0] < data_len * 20:\n",
    "                    mfcc = np.append(mfcc, np.zeros(data_len * 20 - len(mfcc)))\n",
    "                    assert(len(mfcc == data_len * 20))\n",
    "                \n",
    "                    \n",
    "                if features.get(\"zcr\"):\n",
    "                    zcr = librosa.feature.zero_crossing_rate(y=y)[0]\n",
    "\n",
    "                    if np.shape(zcr)[0] < data_len:\n",
    "                        zcr = np.append(zcr, np.zeros(data_len - len(zcr)))\n",
    "                        assert(len(zcr) == data_len)\n",
    "                        \n",
    "\n",
    "                if features.get(\"rms\"):  \n",
    "                    rms = librosa.feature.rms(S=S)[0]\n",
    "                    if np.shape(rms)[0] < data_len:\n",
    "                        rms = np.append(rms, np.zeros(data_len - len(rms)))\n",
    "                        assert(len(rms) == data_len)\n",
    "                    \n",
    "                    \n",
    "                if features.get(\"spec_cent\"):\n",
    "                    cent = librosa.feature.spectral_centroid(S=S)[0]\n",
    "                    cent /= np.amax(np.absolute(cent))\n",
    "                    if np.shape(cent)[0] < mfcc_len:\n",
    "                        cent = np.append(cent, np.zeros(data_len - len(cent)))\n",
    "                        assert(len(cent) == data_len)\n",
    "\n",
    "                if features.get(\"spec_bw\"):\n",
    "                    bw = librosa.feature.spectral_bandwidth(S=S)[0]\n",
    "                    bw /= np.amax(np.absolute(bw))\n",
    "                    if np.shape(bw)[0] < data_len:\n",
    "                        bw = np.append(bw, np.zeros(data_len - len(bw)))\n",
    "                        assert(len(bw) == data_len)\n",
    "\n",
    "                if features.get(\"spec_flat\"):\n",
    "                    flat = librosa.feature.spectral_flatness(S=S)[0]\n",
    "                    flat /= np.amax(np.absolute(flat))\n",
    "                    if np.shape(flat)[0] < data_len:\n",
    "                        flat = np.append(flat, np.zeros(data_len - len(flat)))\n",
    "                        assert(len(flat) == data_len)\n",
    "                    \n",
    "                if features.get(\"spec_roll\"):\n",
    "                    roll = librosa.feature.spectral_rolloff(S=S)[0]\n",
    "                    roll /= np.amax(np.absolute(roll))\n",
    "                    if np.shape(roll)[0] < data_len:\n",
    "                        roll = np.append(roll, np.zeros(data_len - len(roll)))\n",
    "                        assert(len(roll) == data_len)\n",
    "                    \n",
    "                if features.get(\"spec_cont\"):\n",
    "                    S = np.abs(librosa.stft(y=y))\n",
    "                    cont = librosa.feature.spectral_contrast(S=S, sr=sr)\n",
    "                    cont /= np.amax(np.absolute(cont))\n",
    "                    cont = np.ndarray.flatten(cont)[:data_len * 7]\n",
    "                    if np.shape(cont)[0] < data_len * 7:\n",
    "                        cont = np.append(cont, np.zeros(data_len * 7 - len(cont)))\n",
    "                        assert(len(cont) == data_len * 7)\n",
    "                    \n",
    "\n",
    "                if features.get(\"chroma\"):\n",
    "                    chroma = librosa.feature.chroma_stft(y=y, sr=sr)[0]\n",
    "                    chroma /= np.amax(np.absolute(chroma))\n",
    "                    chroma = np.ndarray.flatten(chroma)[:data_len * 12]\n",
    "                    if np.shape(chroma)[0] < mfcc_len * 12:\n",
    "                        chroma = np.append(chroma, np.zeros(data_len * 12 - len(chroma)))\n",
    "                        assert(len(chroma) == data_len * 12)\n",
    "                \n",
    "                # set-up for mfcc + zcr + rms\n",
    "                ins = np.append(mfcc, zcr)\n",
    "                ins = np.append(ins, rms)\n",
    "                all_features.append(ins)\n",
    "                all_labels.append(genre)\n",
    "    \n",
    "    # Convert labels to one-hot encoding\n",
    "    label_uniq_ids, label_row_ids = np.unique(all_labels, return_inverse=True)\n",
    "    label_row_ids = label_row_ids.astype(np.int32, copy=False)\n",
    "    one_hot_labels = to_categorical(label_row_ids, len(label_uniq_ids))\n",
    "    return np.stack(all_features), one_hot_labels"
   ]
  },
  {
   "cell_type": "code",
   "execution_count": 21,
   "metadata": {
    "scrolled": true
   },
   "outputs": [
    {
     "name": "stdout",
     "output_type": "stream",
     "text": [
      "Processing 100 songs in blues genre...\n",
      "Processing 100 songs in classical genre...\n",
      "Processing 100 songs in country genre...\n",
      "Processing 100 songs in disco genre...\n",
      "Processing 100 songs in hiphop genre...\n",
      "Processing 100 songs in jazz genre...\n",
      "Processing 100 songs in metal genre...\n",
      "Processing 100 songs in pop genre...\n",
      "Processing 100 songs in reggae genre...\n",
      "Processing 100 songs in rock genre...\n"
     ]
    }
   ],
   "source": [
    "data = generate_features_and_labels()\n",
    "\n",
    "\n"
   ]
  },
  {
   "cell_type": "code",
   "execution_count": 22,
   "metadata": {
    "scrolled": true
   },
   "outputs": [
    {
     "name": "stdout",
     "output_type": "stream",
     "text": [
      "(30000, 968)\n",
      "(30000, 10)\n"
     ]
    }
   ],
   "source": [
    "features = data[0]\n",
    "labels = data[1]\n",
    "\n",
    "print(np.shape(features))\n",
    "print(np.shape(labels))"
   ]
  },
  {
   "cell_type": "code",
   "execution_count": 23,
   "metadata": {},
   "outputs": [
    {
     "name": "stdout",
     "output_type": "stream",
     "text": [
      "(24000, 978)\n",
      "(6000, 978)\n"
     ]
    }
   ],
   "source": [
    "training_split = 0.8\n",
    "\n",
    "# last column has a genre, turn it into unique ids\n",
    "alldata = np.column_stack((features, labels))\n",
    "\n",
    "np.random.shuffle(alldata)\n",
    "splitidx = int(len(alldata) * training_split)\n",
    "train, test = alldata[:splitidx,:], alldata[splitidx:,:]\n",
    "\n",
    "print(np.shape(train))\n",
    "print(np.shape(test))"
   ]
  },
  {
   "cell_type": "code",
   "execution_count": 24,
   "metadata": {},
   "outputs": [
    {
     "name": "stdout",
     "output_type": "stream",
     "text": [
      "(24000, 968)\n",
      "(24000, 10)\n",
      "(6000, 968)\n",
      "(6000, 10)\n"
     ]
    }
   ],
   "source": [
    "train_input = train[:,:-10]\n",
    "train_labels = train[:,-10:]\n",
    "\n",
    "test_input = test[:,:-10]\n",
    "test_labels = test[:,-10:]\n",
    "\n",
    "print(np.shape(train_input))\n",
    "print(np.shape(train_labels))\n",
    "print(np.shape(test_input))\n",
    "print(np.shape(test_labels))"
   ]
  },
  {
   "cell_type": "code",
   "execution_count": 25,
   "metadata": {},
   "outputs": [
    {
     "name": "stdout",
     "output_type": "stream",
     "text": [
      "Model: \"sequential_1\"\n",
      "_________________________________________________________________\n",
      "Layer (type)                 Output Shape              Param #   \n",
      "=================================================================\n",
      "dense_1 (Dense)              (None, 400)               387600    \n",
      "_________________________________________________________________\n",
      "activation_1 (Activation)    (None, 400)               0         \n",
      "_________________________________________________________________\n",
      "dense_2 (Dense)              (None, 200)               80200     \n",
      "_________________________________________________________________\n",
      "activation_2 (Activation)    (None, 200)               0         \n",
      "_________________________________________________________________\n",
      "dense_3 (Dense)              (None, 100)               20100     \n",
      "_________________________________________________________________\n",
      "activation_3 (Activation)    (None, 100)               0         \n",
      "_________________________________________________________________\n",
      "dense_4 (Dense)              (None, 10)                1010      \n",
      "_________________________________________________________________\n",
      "activation_4 (Activation)    (None, 10)                0         \n",
      "=================================================================\n",
      "Total params: 488,910\n",
      "Trainable params: 488,910\n",
      "Non-trainable params: 0\n",
      "_________________________________________________________________\n",
      "None\n",
      "Train on 19200 samples, validate on 4800 samples\n",
      "Epoch 1/20\n",
      "19200/19200 [==============================] - 8s 432us/step - loss: 1.3722 - accuracy: 0.5076 - val_loss: 1.1507 - val_accuracy: 0.5865\n",
      "Epoch 2/20\n",
      "19200/19200 [==============================] - 8s 408us/step - loss: 1.0530 - accuracy: 0.6251 - val_loss: 1.0604 - val_accuracy: 0.6231\n",
      "Epoch 3/20\n",
      "19200/19200 [==============================] - 8s 402us/step - loss: 0.8935 - accuracy: 0.6842 - val_loss: 0.9758 - val_accuracy: 0.6579\n",
      "Epoch 4/20\n",
      "19200/19200 [==============================] - 7s 383us/step - loss: 0.7731 - accuracy: 0.7287 - val_loss: 0.9224 - val_accuracy: 0.6858 loss:\n",
      "Epoch 5/20\n",
      "19200/19200 [==============================] - 8s 400us/step - loss: 0.6635 - accuracy: 0.7679 - val_loss: 0.8723 - val_accuracy: 0.6994\n",
      "Epoch 6/20\n",
      "19200/19200 [==============================] - 8s 409us/step - loss: 0.5714 - accuracy: 0.7991 - val_loss: 0.8601 - val_accuracy: 0.7104\n",
      "Epoch 7/20\n",
      "19200/19200 [==============================] - 8s 424us/step - loss: 0.4852 - accuracy: 0.8355 - val_loss: 0.8493 - val_accuracy: 0.7225\n",
      "Epoch 8/20\n",
      "19200/19200 [==============================] - 8s 417us/step - loss: 0.4138 - accuracy: 0.8541 - val_loss: 0.8250 - val_accuracy: 0.7454\n",
      "Epoch 9/20\n",
      "19200/19200 [==============================] - 8s 440us/step - loss: 0.3501 - accuracy: 0.8797 - val_loss: 0.9154 - val_accuracy: 0.7400\n",
      "Epoch 10/20\n",
      "19200/19200 [==============================] - 8s 402us/step - loss: 0.3043 - accuracy: 0.8947 - val_loss: 0.9073 - val_accuracy: 0.7502\n",
      "Epoch 11/20\n",
      "19200/19200 [==============================] - 8s 409us/step - loss: 0.2730 - accuracy: 0.9057 - val_loss: 0.9015 - val_accuracy: 0.7490\n",
      "Epoch 12/20\n",
      "19200/19200 [==============================] - 8s 395us/step - loss: 0.2342 - accuracy: 0.9194 - val_loss: 0.9621 - val_accuracy: 0.7533\n",
      "Epoch 13/20\n",
      "19200/19200 [==============================] - 8s 399us/step - loss: 0.2082 - accuracy: 0.9265 - val_loss: 1.0024 - val_accuracy: 0.7508\n",
      "Epoch 14/20\n",
      "19200/19200 [==============================] - 7s 387us/step - loss: 0.1795 - accuracy: 0.9373 - val_loss: 1.0050 - val_accuracy: 0.7573\n",
      "Epoch 15/20\n",
      "19200/19200 [==============================] - 8s 419us/step - loss: 0.1678 - accuracy: 0.9449 - val_loss: 1.0855 - val_accuracy: 0.7494\n",
      "Epoch 16/20\n",
      "19200/19200 [==============================] - 8s 400us/step - loss: 0.1577 - accuracy: 0.9461 - val_loss: 1.0619 - val_accuracy: 0.7583\n",
      "Epoch 17/20\n",
      "19200/19200 [==============================] - 8s 421us/step - loss: 0.1484 - accuracy: 0.9487 - val_loss: 1.1229 - val_accuracy: 0.7606\n",
      "Epoch 18/20\n",
      "19200/19200 [==============================] - 8s 413us/step - loss: 0.1182 - accuracy: 0.9582 - val_loss: 1.1732 - val_accuracy: 0.7600\n",
      "Epoch 19/20\n",
      "19200/19200 [==============================] - 8s 399us/step - loss: 0.1348 - accuracy: 0.9535 - val_loss: 1.1914 - val_accuracy: 0.7558\n",
      "Epoch 20/20\n",
      "19200/19200 [==============================] - 8s 409us/step - loss: 0.1002 - accuracy: 0.9641 - val_loss: 1.2352 - val_accuracy: 0.7671\n",
      "6000/6000 [==============================] - 1s 95us/step\n",
      "Loss: 1.2149, accuracy: 0.7665\n"
     ]
    }
   ],
   "source": [
    "act = 'relu'\n",
    "model = Sequential([\n",
    "    Dense(400, input_dim=np.shape(train_input)[1]),\n",
    "    Activation(act),\n",
    "    Dense(200),\n",
    "    Activation(act),\n",
    "    Dense(100),\n",
    "    Activation(act),\n",
    "    \n",
    "    Dense(10),\n",
    "    Activation('softmax'),\n",
    "])\n",
    "\n",
    "model.compile(optimizer='adam',\n",
    "              loss='categorical_crossentropy',\n",
    "              metrics=['accuracy'])\n",
    "          \n",
    "print(model.summary())\n",
    "    \n",
    "history = model.fit(train_input, train_labels, epochs=20, batch_size=32, \n",
    "                    validation_split=0.2, shuffle=True)\n",
    "\n",
    "loss, acc = model.evaluate(test_input, test_labels, batch_size=32)\n",
    "print(\"Loss: %.4f, accuracy: %.4f\" % (loss, acc))"
   ]
  },
  {
   "cell_type": "code",
   "execution_count": 26,
   "metadata": {},
   "outputs": [
    {
     "name": "stdout",
     "output_type": "stream",
     "text": [
      "Train: accuracy: 92.95%\n",
      "Test: accuracy: 76.65%\n"
     ]
    }
   ],
   "source": [
    "train_scores = model.evaluate(train_input, train_labels, verbose=0)\n",
    "test_scores = model.evaluate(test_input, test_labels, verbose=0)\n",
    "print(\"Train: %s: %.2f%%\" % (model.metrics_names[1], train_scores[1]*100))\n",
    "print(\"Test: %s: %.2f%%\" % (model.metrics_names[1], test_scores[1]*100))"
   ]
  },
  {
   "cell_type": "code",
   "execution_count": 28,
   "metadata": {},
   "outputs": [
    {
     "name": "stdout",
     "output_type": "stream",
     "text": [
      "[[429   6  46  22  24  27  24   0   7  30]\n",
      " [  1 558  13   2   4  18   2   0   1   6]\n",
      " [ 18  11 431  20  14  21   3   7   7  44]\n",
      " [  2   9  17 400  22  13  10   9  14  53]\n",
      " [  9   2  18  34 482  10  19  19  35  19]\n",
      " [ 11  26  39   3  10 540   0   2   4  14]\n",
      " [  4   0   6   8   5   1 536   0   1  30]\n",
      " [  0   5  25  28  41   7   1 441  18  22]\n",
      " [ 13   3  45  25  60  25   6   7 351  30]\n",
      " [  4   7  38  40  24  23  28  10  10 431]]\n"
     ]
    }
   ],
   "source": [
    "predictions = model.predict(test_input)\n",
    "\n",
    "matrix = confusion_matrix(test_labels.argmax(axis=1), predictions.argmax(axis=1))\n",
    "print(matrix)"
   ]
  },
  {
   "cell_type": "code",
   "execution_count": 29,
   "metadata": {},
   "outputs": [
    {
     "name": "stdout",
     "output_type": "stream",
     "text": [
      "[[69.8  1.   7.5  3.6  3.9  4.4  3.9  0.   1.1  4.9]\n",
      " [ 0.2 92.2  2.1  0.3  0.7  3.   0.3  0.   0.2  1. ]\n",
      " [ 3.1  1.9 74.8  3.5  2.4  3.6  0.5  1.2  1.2  7.6]\n",
      " [ 0.4  1.6  3.1 72.9  4.   2.4  1.8  1.6  2.6  9.7]\n",
      " [ 1.4  0.3  2.8  5.3 74.5  1.5  2.9  2.9  5.4  2.9]\n",
      " [ 1.7  4.   6.   0.5  1.5 83.2  0.   0.3  0.6  2.2]\n",
      " [ 0.7  0.   1.   1.4  0.8  0.2 90.7  0.   0.2  5.1]\n",
      " [ 0.   0.9  4.3  4.8  7.   1.2  0.2 75.   3.1  3.7]\n",
      " [ 2.3  0.5  8.   4.4 10.6  4.4  1.1  1.2 62.1  5.3]\n",
      " [ 0.7  1.1  6.2  6.5  3.9  3.7  4.6  1.6  1.6 70.1]]\n"
     ]
    }
   ],
   "source": [
    "M = np.zeros((10, 10))\n",
    "for i in range(10):\n",
    "    total = np.sum(matrix[i])\n",
    "    for j in range(10):\n",
    "        M[i, j] = round((matrix[i,j]/total * 100), 1)\n",
    "\n",
    "print(M)"
   ]
  },
  {
   "cell_type": "code",
   "execution_count": 53,
   "metadata": {},
   "outputs": [
    {
     "data": {
      "image/png": "[encoded data removed]",
      "text/plain": [
       "<Figure size 432x288 with 1 Axes>"
      ]
     },
     "metadata": {
      "needs_background": "light"
     },
     "output_type": "display_data"
    }
   ],
   "source": [
    "import matplotlib\n",
    "import matplotlib.pyplot as plt\n",
    "\n",
    "genres = ['blues', 'classical', 'country', 'disco', 'hiphop', 'jazz', 'metal', 'pop', 'reggae', 'rock']\n",
    "\n",
    "fig, ax = plt.subplots()\n",
    "im = ax.imshow(M, cmap='gnuplot')\n",
    "\n",
    "ax.set_xticks(np.arange(len(genres)))\n",
    "ax.set_yticks(np.arange(len(genres)))\n",
    "\n",
    "ax.set_xticklabels(genres)\n",
    "ax.set_yticklabels(genres)\n",
    "\n",
    "plt.setp(ax.get_xticklabels(), rotation=45, ha=\"right\",\n",
    "         rotation_mode=\"anchor\")\n",
    "\n",
    "for i in range(len(genres)):\n",
    "    for j in range(len(genres)):\n",
    "        text = ax.text(j, i, M[i, j],\n",
    "                       ha=\"center\", va=\"center\", color=\"w\")\n",
    "        if (i==j):\n",
    "            text = ax.text(j, i, M[i, j],\n",
    "                       ha=\"center\", va=\"center\", color=\"black\")\n",
    "\n",
    "ax.set_title(\"Confusion Matrix\")\n",
    "fig.tight_layout()\n",
    "plt.rcParams.update({'font.size': 7})\n",
    "plt.show()\n",
    "\n"
   ]
  },
  {
   "cell_type": "code",
   "execution_count": 36,
   "metadata": {},
   "outputs": [],
   "source": [
    "# example classifying a song on MFCC + zcr + rms\n",
    "filename = \"songs/born_in_winter.wav\"\n",
    "song_length = int(librosa.get_duration(filename=filename))\n",
    "feats = np.zeros((song_length, (20 + 1 + 1) * 44)) # 20 for MFCC, 1 for zcr and 1 for rms\n",
    "\n",
    "flat_mfcc = 20 * 44\n",
    "data_len = 44\n",
    "\n",
    "for i in range(0, song_length):\n",
    "    y, sr = librosa.load(filename, offset=i, duration=1)\n",
    "    mfcc = librosa.feature.mfcc(y, sr=sr)\n",
    "    mfcc /= np.amax(np.absolute(mfcc))\n",
    "    mfcc = np.ndarray.flatten(mfcc)[:flat_mfcc]\n",
    "    \n",
    "    if np.shape(mfcc)[0] < flat_mfcc:\n",
    "        mfcc = np.append(mfcc, np.zeros(flat_mfcc - len(mfcc)))\n",
    "        assert(len(mfcc) == flat_mfcc)\n",
    "        \n",
    "    zcr = librosa.feature.zero_crossing_rate(y=y)[0]\n",
    "    if np.shape(zcr)[0] < data_len:\n",
    "        zcr = np.append(zcr, np.zeros(data_len - len(zcr)))\n",
    "        assert(len(zcr) == 44)\n",
    "                        \n",
    "    S, phase = librosa.magphase(librosa.stft(y=y))\n",
    "    rms = librosa.feature.rms(S=S)[0]\n",
    "    if np.shape(rms)[0] < data_len:\n",
    "        rms = np.append(rms, np.zeros(data_len - len(rms)))\n",
    "        assert(len(rms) == 44)\n",
    "    \n",
    "    entry = np.append(mfcc, zcr)\n",
    "    entry = np.append(entry, rms)\n",
    "    feats[i] = entry\n",
    "    \n",
    "# for every second in the song feats now contains a prediction array of length 10 representing the genres"
   ]
  },
  {
   "cell_type": "code",
   "execution_count": 39,
   "metadata": {},
   "outputs": [],
   "source": [
    "genre_per_second = []\n",
    "out = np.zeros(10)\n",
    "for i in range(0, song_length):\n",
    "    pred = model.predict(feats[i:i+1,])\n",
    "    \n",
    "    out += pred[0]\n",
    "    genre_per_second = np.append(genre_per_second, np.argmax(pred))\n",
    "\n",
    "out /= song_length"
   ]
  },
  {
   "cell_type": "code",
   "execution_count": 40,
   "metadata": {},
   "outputs": [
    {
     "name": "stdout",
     "output_type": "stream",
     "text": [
      "[5. 2. 2. 2. 2. 2. 2. 4. 4. 4. 5. 4. 4. 5. 5. 5. 4. 5. 4. 5. 4. 5. 5. 5.\n",
      " 4. 5. 5. 5. 5. 9. 5. 5. 5. 4. 5. 5. 5. 5. 5. 9. 5. 5. 5. 5. 5. 5. 5. 5.\n",
      " 5. 5. 5. 5. 5. 9. 9. 5. 5. 5. 5. 5. 5. 5. 5. 5. 5. 9. 5. 5. 5. 9. 5. 5.\n",
      " 5. 4. 5. 5. 5. 5. 5. 0. 9. 5. 5. 5. 5. 5. 4. 4. 5. 5. 5. 5. 5. 5. 5. 5.\n",
      " 4. 5. 5. 5. 5. 5. 5. 5. 5. 5. 9. 5. 5. 5. 2. 2. 2. 2. 2. 9. 2. 2. 2. 2.\n",
      " 2. 2. 9. 9. 9. 2. 9. 2. 2. 2. 9. 2. 2. 2. 2. 9. 2. 9. 9. 9. 2. 2. 2. 2.\n",
      " 6. 2. 2. 2. 2. 2. 2. 6. 2. 2. 2. 2. 2. 2. 2. 2. 2. 9. 2. 2. 2. 1. 2. 2.\n",
      " 2. 2. 9. 2. 2. 9. 2. 2. 9. 2. 2. 2. 9. 2. 9. 2. 9. 9. 9. 9. 5. 4. 4. 2.\n",
      " 4. 5. 4. 5. 5. 4. 4. 5. 4. 5. 0. 4. 5. 5. 5. 4. 5. 6. 4. 4. 5. 4. 4. 4.\n",
      " 5. 5. 5. 4. 5. 6. 5. 5. 6. 0. 1. 1. 1. 4.]\n"
     ]
    }
   ],
   "source": [
    "# prints for every second which genre had the highest prediction\n",
    "# 0 for blues, 1 for classical etc. according the indices of\n",
    "# ['blues', 'classical', 'country', 'disco', 'hiphop', 'jazz', 'metal', 'pop', 'reggae', 'rock']\n",
    "print(genre_per_second)"
   ]
  },
  {
   "cell_type": "code",
   "execution_count": 41,
   "metadata": {},
   "outputs": [
    {
     "name": "stdout",
     "output_type": "stream",
     "text": [
      "[0.0196113  0.01999955 0.27268202 0.00101348 0.13733902 0.4139647\n",
      " 0.02215203 0.0000354  0.00002015 0.11318235]\n"
     ]
    }
   ],
   "source": [
    "# prints the total prediction for every genre\n",
    "# array to be read in the order of \n",
    "# ['blues', 'classical', 'country', 'disco', 'hiphop', 'jazz', 'metal', 'pop', 'reggae', 'rock']\n",
    "print(out)"
   ]
  },
  {
   "cell_type": "code",
   "execution_count": 50,
   "metadata": {},
   "outputs": [
    {
     "data": {
      "image/png": "[encoded data removed]",
      "text/plain": [
       "<Figure size 432x288 with 1 Axes>"
      ]
     },
     "metadata": {
      "needs_background": "light"
     },
     "output_type": "display_data"
    }
   ],
   "source": [
    "labels = ['Gojira - Born in Winter']\n",
    "\n",
    "x = np.arange(len(labels))\n",
    "\n",
    "fig, ax = plt.subplots()\n",
    "\n",
    "\n",
    "rects1 = ax.bar(x - 4.5*width, out[0], label='blues')\n",
    "rects2 = ax.bar(x - 3.5*width, out[1], label='classical')\n",
    "rects3 = ax.bar(x - 2.5*width, out[2], label='country')\n",
    "rects4 = ax.bar(x - 1.5*width, out[3], label='disco')\n",
    "rects5 = ax.bar(x - 0.5*width, out[4], label='hip-hop')\n",
    "rects6 = ax.bar(x + 0.5*width, out[5], label='jazz')\n",
    "rects7 = ax.bar(x + 1.5*width, out[6], label='metal')\n",
    "rects8 = ax.bar(x + 2.5*width, out[7], label='pop')\n",
    "rects9 = ax.bar(x + 3.5*width, out[8], label='reggae')\n",
    "rects10 = ax.bar(x + 4.5*width, out[9], label='rock')\n",
    "\n",
    "\n",
    "\n",
    "# Add some text for labels, title and custom x-axis tick labels, etc.\n",
    "ax.set_ylabel('certainty of prediction')\n",
    "ax.set_xticks(x)\n",
    "ax.set_xticklabels(labels)\n",
    "ax.legend()\n",
    "\n",
    "plt.ylim([0, 1])\n",
    "\n",
    "fig.tight_layout()\n",
    "\n",
    "plt.show()"
   ]
  },
  {
   "cell_type": "code",
   "execution_count": null,
   "metadata": {},
   "outputs": [],
   "source": []
  }
 ],
 "metadata": {
  "kernelspec": {
   "display_name": "Python 3",
   "language": "python",
   "name": "python3"
  },
  "language_info": {
   "codemirror_mode": {
    "name": "ipython",
    "version": 3
   },
   "file_extension": ".py",
   "mimetype": "text/x-python",
   "name": "python",
   "nbconvert_exporter": "python",
   "pygments_lexer": "ipython3",
   "version": "3.6.8"
  }
 },
 "nbformat": 4,
 "nbformat_minor": 2
}
